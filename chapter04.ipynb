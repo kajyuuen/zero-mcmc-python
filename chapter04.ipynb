{
 "cells": [
  {
   "cell_type": "markdown",
   "metadata": {},
   "source": [
    "# Chapter 4: メトロポリス法"
   ]
  },
  {
   "cell_type": "code",
   "execution_count": 20,
   "metadata": {},
   "outputs": [],
   "source": [
    "import numpy as np\n",
    "import matplotlib.pyplot as plt"
   ]
  },
  {
   "cell_type": "code",
   "execution_count": 21,
   "metadata": {},
   "outputs": [],
   "source": [
    "np.random.seed(24)"
   ]
  },
  {
   "cell_type": "markdown",
   "metadata": {},
   "source": [
    "4.2 期待値の計算の具体例"
   ]
  },
  {
   "cell_type": "code",
   "execution_count": 45,
   "metadata": {
    "scrolled": true
   },
   "outputs": [],
   "source": [
    "def main():\n",
    "    n_iter = 10**5\n",
    "    step_size = 1/2\n",
    "    \n",
    "    xs = []\n",
    "    x = 0\n",
    "    n_accept = 0\n",
    "\n",
    "    for i in range(1, n_iter+1):\n",
    "        backup_x = x\n",
    "\n",
    "        # S(x) = (x^2)/2\n",
    "        action_init = 1/2*(x**2)\n",
    "        \n",
    "        # dx ~ Uniform(-step_size, step_size)\n",
    "        dx = np.random.rand()\n",
    "        dx = (dx-1/2)*step_size*2\n",
    "        \n",
    "        x += dx\n",
    "        \n",
    "        # S(x') = (x'^2)/2\n",
    "        action_fin=1/2*(x**2) \n",
    "        \n",
    "        # メトロポリステスト\n",
    "        metropolis = np.random.rand()\n",
    "        if np.exp(action_init-action_fin) > metropolis:\n",
    "            # 受理\n",
    "            n_accept+= 1\n",
    "        else:\n",
    "            # 棄却\n",
    "            x = backup_x\n",
    "        xs.append(x)\n",
    "        \n",
    "    return xs\n",
    "xs = main()   "
   ]
  },
  {
   "cell_type": "code",
   "execution_count": 46,
   "metadata": {},
   "outputs": [
    {
     "data": {
      "image/png": "[encoded data removed]",
      "text/plain": [
       "<Figure size 432x288 with 1 Axes>"
      ]
     },
     "metadata": {
      "needs_background": "light"
     },
     "output_type": "display_data"
    }
   ],
   "source": [
    "plt.hist(xs, bins=50);"
   ]
  },
  {
   "cell_type": "markdown",
   "metadata": {},
   "source": [
    "4.4 ガウス分布以外の例"
   ]
  },
  {
   "cell_type": "code",
   "execution_count": 49,
   "metadata": {},
   "outputs": [],
   "source": [
    "def main():\n",
    "    n_iter = 10**6\n",
    "    step_size = 1/2\n",
    "    \n",
    "    xs = []\n",
    "    x = 0\n",
    "    n_accept = 0\n",
    "\n",
    "    for i in range(1, n_iter+1):\n",
    "        backup_x = x\n",
    "\n",
    "        action_init = -np.log(np.exp(-1/2*(x-3)*(x-3))\n",
    "                                              + np.exp(-1/2*(x+3)*(x+3)))\n",
    "        \n",
    "        # dx ~ Uniform(-step_size, step_size)\n",
    "        dx = np.random.rand()\n",
    "        dx = (dx-1/2)*step_size*2\n",
    "        \n",
    "        x += dx\n",
    "        \n",
    "        action_fin=-np.log(np.exp(-1/2*(x-3)*(x-3))\n",
    "                                              + np.exp(-1/2*(x+3)*(x+3)))\n",
    "        \n",
    "        # メトロポリステスト\n",
    "        metropolis = np.random.rand()\n",
    "        if np.exp(action_init-action_fin) > metropolis:\n",
    "            # 受理\n",
    "            n_accept+= 1\n",
    "        else:\n",
    "            # 棄却\n",
    "            x = backup_x\n",
    "        xs.append(x)\n",
    "\n",
    "    return xs\n",
    "xs = main()   "
   ]
  },
  {
   "cell_type": "code",
   "execution_count": 50,
   "metadata": {},
   "outputs": [
    {
     "data": {
      "image/png": "[encoded data removed]",
      "text/plain": [
       "<Figure size 432x288 with 1 Axes>"
      ]
     },
     "metadata": {
      "needs_background": "light"
     },
     "output_type": "display_data"
    }
   ],
   "source": [
    "plt.hist(xs, bins=50);"
   ]
  },
  {
   "cell_type": "code",
   "execution_count": null,
   "metadata": {},
   "outputs": [],
   "source": []
  }
 ],
 "metadata": {
  "kernelspec": {
   "display_name": "Python 3",
   "language": "python",
   "name": "python3"
  },
  "language_info": {
   "codemirror_mode": {
    "name": "ipython",
    "version": 3
   },
   "file_extension": ".py",
   "mimetype": "text/x-python",
   "name": "python",
   "nbconvert_exporter": "python",
   "pygments_lexer": "ipython3",
   "version": "3.7.5"
  }
 },
 "nbformat": 4,
 "nbformat_minor": 4
}
