{
 "cells": [
  {
   "cell_type": "markdown",
   "metadata": {},
   "source": [
    "# Chapter 2: そもそもモンテカルロ法とは "
   ]
  },
  {
   "cell_type": "code",
   "execution_count": 2,
   "metadata": {},
   "outputs": [],
   "source": [
    "import numpy as np"
   ]
  },
  {
   "cell_type": "code",
   "execution_count": 3,
   "metadata": {},
   "outputs": [],
   "source": [
    "np.random.seed(24)"
   ]
  },
  {
   "cell_type": "markdown",
   "metadata": {},
   "source": [
    "2.2.1 一様乱数を用いた円周率の計算"
   ]
  },
  {
   "cell_type": "code",
   "execution_count": 4,
   "metadata": {},
   "outputs": [
    {
     "name": "stdout",
     "output_type": "stream",
     "text": [
      "[100 iter]: 0.73\n",
      "[200 iter]: 0.755\n",
      "[300 iter]: 0.7733333333333333\n",
      "[400 iter]: 0.7575\n",
      "[500 iter]: 0.762\n",
      "[600 iter]: 0.7633333333333333\n",
      "[700 iter]: 0.7757142857142857\n",
      "[800 iter]: 0.77875\n",
      "[900 iter]: 0.7766666666666666\n",
      "[1000 iter]: 0.777\n"
     ]
    }
   ],
   "source": [
    "def main():\n",
    "    n_iter = 1000\n",
    "    n_in = 0\n",
    "    for i in range(1, n_iter+1):\n",
    "        # x, y ~ Uniform(0, 1)\n",
    "        x = np.random.rand()\n",
    "        y = np.random.rand()\n",
    "        \n",
    "        if x**2 + y**2 < 1:\n",
    "            n_in += 1\n",
    "        \n",
    "        # π/4の近似値\n",
    "        if i % 100 == 0:\n",
    "            print(\"[{} iter]: {}\".format(i, n_in/i))\n",
    "main()        "
   ]
  },
  {
   "cell_type": "markdown",
   "metadata": {},
   "source": [
    "2.2.2 一様乱数を用いた定積分"
   ]
  },
  {
   "cell_type": "code",
   "execution_count": 6,
   "metadata": {},
   "outputs": [
    {
     "name": "stdout",
     "output_type": "stream",
     "text": [
      "[100 iter]: 0.8099071816395618\n",
      "[200 iter]: 0.8154297762193652\n",
      "[300 iter]: 0.8098585721357495\n",
      "[400 iter]: 0.8032208740928047\n",
      "[500 iter]: 0.8047614350645612\n",
      "[600 iter]: 0.8042325156926885\n",
      "[700 iter]: 0.8006211475773698\n",
      "[800 iter]: 0.8019708324801427\n",
      "[900 iter]: 0.800451522736673\n",
      "[1000 iter]: 0.8030401346020926\n"
     ]
    }
   ],
   "source": [
    "def main():\n",
    "    n_iter = 1000\n",
    "    sum_y = 0\n",
    "    for i in range(1, n_iter+1):\n",
    "        # x ~ Uniform(0, 1)\n",
    "        x = np.random.rand()\n",
    "        # y = f(x)の計算\n",
    "        y = np.sqrt(1-x**2)\n",
    "        sum_y += y\n",
    "\n",
    "        # π/4の近似値\n",
    "        if i % 100 == 0:\n",
    "            print(\"[{} iter]: {}\".format(i, sum_y/i))\n",
    "main()        "
   ]
  },
  {
   "cell_type": "markdown",
   "metadata": {},
   "source": [
    "2.3　積分と期待値"
   ]
  },
  {
   "cell_type": "code",
   "execution_count": 8,
   "metadata": {},
   "outputs": [
    {
     "name": "stdout",
     "output_type": "stream",
     "text": [
      "[1000 iter]: 4.026277758639514\n",
      "[2000 iter]: 4.107300645413889\n",
      "[3000 iter]: 4.127410359876419\n",
      "[4000 iter]: 4.156982361674431\n",
      "[5000 iter]: 4.1742446363079715\n",
      "[6000 iter]: 4.180192836604141\n",
      "[7000 iter]: 4.169470313302086\n",
      "[8000 iter]: 4.176606272157532\n",
      "[9000 iter]: 4.174490187499271\n",
      "[10000 iter]: 4.174404232010583\n"
     ]
    }
   ],
   "source": [
    "def main():\n",
    "    n_iter = 10000\n",
    "    sum_z = 0\n",
    "    n_in = 0\n",
    "    for i in range(1, n_iter+1):\n",
    "        # x, y ~ Uniform(0, 1)\n",
    "        x = np.random.rand()\n",
    "        y = np.random.rand()\n",
    "        \n",
    "        if x**2 + y**2 < 1:\n",
    "            n_in += 1\n",
    "            z = np.sqrt(1-(x**2+y**2))\n",
    "            sum_z += z\n",
    "\n",
    "        # 4π/3の近似値\n",
    "        if i % 1000 == 0:\n",
    "            print(\"[{} iter]: {}\".format(i, sum_z/n_in*2*np.pi))\n",
    "main()        "
   ]
  }
 ],
 "metadata": {
  "kernelspec": {
   "display_name": "Python 3",
   "language": "python",
   "name": "python3"
  },
  "language_info": {
   "codemirror_mode": {
    "name": "ipython",
    "version": 3
   },
   "file_extension": ".py",
   "mimetype": "text/x-python",
   "name": "python",
   "nbconvert_exporter": "python",
   "pygments_lexer": "ipython3",
   "version": "3.7.5"
  }
 },
 "nbformat": 4,
 "nbformat_minor": 4
}
