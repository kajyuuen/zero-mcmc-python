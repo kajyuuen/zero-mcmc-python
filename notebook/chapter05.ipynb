{
 "cells": [
  {
   "cell_type": "markdown",
   "metadata": {},
   "source": [
    "# Chapter 5: 多変数のメトロポリス法"
   ]
  },
  {
   "cell_type": "code",
   "execution_count": 1,
   "metadata": {},
   "outputs": [],
   "source": [
    "import numpy as np\n",
    "import matplotlib.pyplot as plt"
   ]
  },
  {
   "cell_type": "code",
   "execution_count": 2,
   "metadata": {},
   "outputs": [],
   "source": [
    "np.random.seed(24)"
   ]
  },
  {
   "cell_type": "markdown",
   "metadata": {},
   "source": [
    "5.1 多変数のガウス分布"
   ]
  },
  {
   "cell_type": "code",
   "execution_count": 41,
   "metadata": {
    "scrolled": true
   },
   "outputs": [],
   "source": [
    "def main():\n",
    "    n_iter = 10**5\n",
    "    step_size_x, step_size_y = 1/2,  1/2\n",
    "    \n",
    "    xs, ys = [], []\n",
    "    x, y = 0, 0\n",
    "    n_accept = 0\n",
    "\n",
    "    for i in range(1, n_iter+1):\n",
    "        backup_x, backup_y = x, y\n",
    "\n",
    "        action_init = 1/2*(x**2+y**2+x*y)\n",
    "        \n",
    "        # dx, dy ~ Uniform(-step_size, step_size)\n",
    "        dx, dy = np.random.rand(), np.random.rand()\n",
    "        dx, dy = (dx-1/2)*step_size_x*2, (dy-1/2)*step_size_y*2\n",
    "        \n",
    "        x += dx\n",
    "        y += dy\n",
    "        \n",
    "        action_fin=1/2*(x**2+y**2+x*y)\n",
    "        \n",
    "        # メトロポリステスト\n",
    "        metropolis = np.random.rand()\n",
    "        if np.exp(action_init-action_fin) > metropolis:\n",
    "            # 受理\n",
    "            n_accept+= 1\n",
    "        else:\n",
    "            # 棄却\n",
    "            x, y = backup_x, backup_y\n",
    "        xs.append(x)\n",
    "        ys.append(y)\n",
    "\n",
    "    return xs, ys\n",
    "\n",
    "def select_per_n(xs, n):\n",
    "    return [ xs[i] for i in range(len(xs)) if i % n == 0]\n",
    "\n",
    "xs, ys = main()\n",
    "n = 10\n",
    "xs, ys = select_per_n(xs, 10), select_per_n(ys, 10)"
   ]
  },
  {
   "cell_type": "code",
   "execution_count": 42,
   "metadata": {},
   "outputs": [
    {
     "data": {
      "image/png": "[encoded data removed]",
      "text/plain": [
       "<Figure size 432x288 with 1 Axes>"
      ]
     },
     "metadata": {
      "needs_background": "light"
     },
     "output_type": "display_data"
    }
   ],
   "source": [
    "g = plt.subplot()\n",
    "\n",
    "g.scatter(xs, ys, marker=\"+\");\n",
    "g.set_ylim([-4,4])\n",
    "g.set_xlim([-4,4])\n",
    "g.set_aspect('equal')"
   ]
  },
  {
   "cell_type": "markdown",
   "metadata": {},
   "source": [
    "4.4 ガウス分布以外の例"
   ]
  },
  {
   "cell_type": "code",
   "execution_count": 12,
   "metadata": {},
   "outputs": [],
   "source": [
    "def main():\n",
    "    n_iter = 10**5\n",
    "    step_size = 1/2\n",
    "    \n",
    "    xs = []\n",
    "    x = 0\n",
    "    n_accept = 0\n",
    "\n",
    "    for i in range(1, n_iter+1):\n",
    "        backup_x = x\n",
    "\n",
    "        action_init = -np.log(np.exp(-1/2*(x-3)*(x-3))\n",
    "                                              + np.exp(-1/2*(x+3)*(x+3)))\n",
    "        \n",
    "        # dx ~ Uniform(-step_size, step_size)\n",
    "        dx = np.random.rand()\n",
    "        dx = (dx-1/2)*step_size*2\n",
    "        \n",
    "        x += dx\n",
    "        \n",
    "        action_fin=-np.log(np.exp(-1/2*(x-3)*(x-3))\n",
    "                                              + np.exp(-1/2*(x+3)*(x+3)))\n",
    "        \n",
    "        # メトロポリステスト\n",
    "        metropolis = np.random.rand()\n",
    "        if np.exp(action_init-action_fin) > metropolis:\n",
    "            # 受理\n",
    "            n_accept+= 1\n",
    "        else:\n",
    "            # 棄却\n",
    "            x = backup_x\n",
    "        \n",
    "        # print(\"x_{} = {}\".format(n_accept, x))\n",
    "        xs.append(x)\n",
    "    return xs\n",
    "xs = main()   "
   ]
  },
  {
   "cell_type": "code",
   "execution_count": 13,
   "metadata": {},
   "outputs": [
    {
     "data": {
      "image/png": "[encoded data removed]",
      "text/plain": [
       "<Figure size 432x288 with 1 Axes>"
      ]
     },
     "metadata": {
      "needs_background": "light"
     },
     "output_type": "display_data"
    }
   ],
   "source": [
    "plt.hist(xs, bins=50);"
   ]
  }
 ],
 "metadata": {
  "kernelspec": {
   "display_name": "Python 3",
   "language": "python",
   "name": "python3"
  },
  "language_info": {
   "codemirror_mode": {
    "name": "ipython",
    "version": 3
   },
   "file_extension": ".py",
   "mimetype": "text/x-python",
   "name": "python",
   "nbconvert_exporter": "python",
   "pygments_lexer": "ipython3",
   "version": "3.7.5"
  }
 },
 "nbformat": 4,
 "nbformat_minor": 4
}
